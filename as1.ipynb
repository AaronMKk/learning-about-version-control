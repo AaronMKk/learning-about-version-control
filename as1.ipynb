{
 "cells": [
  {
   "cell_type": "code",
   "execution_count": 1,
   "id": "a4561539-59bc-496e-a5d8-abdc7ac6727a",
   "metadata": {},
   "outputs": [
    {
     "name": "stdout",
     "output_type": "stream",
     "text": [
      "^^\n"
     ]
    }
   ],
   "source": [
    "print(\"^^\")"
   ]
  },
  {
   "cell_type": "markdown",
   "id": "72984e18-c778-482e-9af9-ccbd25080af7",
   "metadata": {},
   "source": [
    "qsa"
   ]
  }
 ],
 "metadata": {
  "kernelspec": {
   "display_name": "Python 3 (ipykernel)",
   "language": "python",
   "name": "python3"
  },
  "language_info": {
   "codemirror_mode": {
    "name": "ipython",
    "version": 3
   },
   "file_extension": ".py",
   "mimetype": "text/x-python",
   "name": "python",
   "nbconvert_exporter": "python",
   "pygments_lexer": "ipython3",
   "version": "3.9.5"
  }
 },
 "nbformat": 4,
 "nbformat_minor": 5
}
